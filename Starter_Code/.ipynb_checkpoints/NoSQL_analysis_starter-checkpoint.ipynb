{
 "cells": [
  {
   "cell_type": "markdown",
   "id": "9a57c4c6",
   "metadata": {},
   "source": [
    "# Eat Safe, Love"
   ]
  },
  {
   "cell_type": "markdown",
   "id": "064ef857",
   "metadata": {},
   "source": [
    "## Notebook Set Up"
   ]
  },
  {
   "cell_type": "code",
   "execution_count": 79,
   "id": "3ecdd008",
   "metadata": {},
   "outputs": [],
   "source": [
    "from pymongo import MongoClient\n",
    "import pandas as pd\n",
    "from pprint import pprint"
   ]
  },
  {
   "cell_type": "code",
   "execution_count": 80,
   "id": "59390c4a",
   "metadata": {},
   "outputs": [],
   "source": [
    "# Create an instance of MongoClient\n",
    "mongo = MongoClient(port=27017)"
   ]
  },
  {
   "cell_type": "code",
   "execution_count": 81,
   "id": "71e373c1",
   "metadata": {},
   "outputs": [],
   "source": [
    "# assign the uk_food database to a variable name\n",
    "db = mongo['uk_food']"
   ]
  },
  {
   "cell_type": "code",
   "execution_count": 82,
   "id": "18ab463c",
   "metadata": {},
   "outputs": [
    {
     "name": "stdout",
     "output_type": "stream",
     "text": [
      "['establishments']\n"
     ]
    }
   ],
   "source": [
    "# review the collections in our database\n",
    "print(db.list_collection_names())"
   ]
  },
  {
   "cell_type": "code",
   "execution_count": 83,
   "id": "11c9f11b",
   "metadata": {},
   "outputs": [],
   "source": [
    "# assign the collection to a variable\n",
    "establishments = db['establishments']"
   ]
  },
  {
   "cell_type": "markdown",
   "id": "d5671434",
   "metadata": {},
   "source": [
    "## Part 3: Exploratory Analysis\n",
    "Unless otherwise stated, for each question: \n",
    "* Use `count_documents` to display the number of documents contained in the result.\n",
    "* Display the first document in the results using `pprint`.\n",
    "* Convert the result to a Pandas DataFrame, print the number of rows in the DataFrame, and display the first 10 rows."
   ]
  },
  {
   "cell_type": "markdown",
   "id": "314bd884",
   "metadata": {},
   "source": [
    "### 1. Which establishments have a hygiene score equal to 20?"
   ]
  },
  {
   "cell_type": "code",
   "execution_count": 84,
   "id": "c2da7648",
   "metadata": {},
   "outputs": [
    {
     "name": "stdout",
     "output_type": "stream",
     "text": [
      "Number of establishments with a hygiene score of 20: 41\n",
      "{'AddressLine1': '5-6 Southfields Road',\n",
      " 'AddressLine2': 'Eastbourne',\n",
      " 'AddressLine3': 'East Sussex',\n",
      " 'AddressLine4': '',\n",
      " 'BusinessName': 'The Chase Rest Home',\n",
      " 'BusinessType': 'Caring Premises',\n",
      " 'BusinessTypeID': 5,\n",
      " 'ChangesByServerID': 0,\n",
      " 'Distance': 4613.888288172291,\n",
      " 'FHRSID': 110681,\n",
      " 'LocalAuthorityBusinessID': '4029',\n",
      " 'LocalAuthorityCode': '102',\n",
      " 'LocalAuthorityEmailAddress': 'Customerfirst@eastbourne.gov.uk',\n",
      " 'LocalAuthorityName': 'Eastbourne',\n",
      " 'LocalAuthorityWebSite': 'http://www.eastbourne.gov.uk/foodratings',\n",
      " 'NewRatingPending': False,\n",
      " 'Phone': '',\n",
      " 'PostCode': 'BN21 1BU',\n",
      " 'RatingDate': '2021-09-23T00:00:00',\n",
      " 'RatingKey': 'fhrs_0_en-gb',\n",
      " 'RatingValue': 0,\n",
      " 'RightToReply': '',\n",
      " 'SchemeType': 'FHRS',\n",
      " '_id': ObjectId('6668a114cf5c32101a53bf0c'),\n",
      " 'geocode': {'latitude': 50.769705, 'longitude': 0.27694},\n",
      " 'links': [{'href': 'https://api.ratings.food.gov.uk/establishments/110681',\n",
      "            'rel': 'self'}],\n",
      " 'meta': {'dataSource': None,\n",
      "          'extractDate': '0001-01-01T00:00:00',\n",
      "          'itemCount': 0,\n",
      "          'pageNumber': 0,\n",
      "          'pageSize': 0,\n",
      "          'returncode': None,\n",
      "          'totalCount': 0,\n",
      "          'totalPages': 0},\n",
      " 'scores': {'ConfidenceInManagement': 20, 'Hygiene': 20, 'Structural': 20}}\n"
     ]
    }
   ],
   "source": [
    "# Find the establishments with a hygiene score of 20\n",
    "query = {\"scores.Hygiene\": 20}\n",
    "\n",
    "# Execute the query to retrieve the documents\n",
    "results = list(establishments.find(query))\n",
    "\n",
    "# Use count_documents to display the number of documents in the result\n",
    "num_documents = establishments.count_documents(query)\n",
    "print(\"Number of establishments with a hygiene score of 20:\", num_documents)\n",
    "\n",
    "# Display the first document in the results using pprint\n",
    "if num_documents > 0:\n",
    "    first_document = establishments.find_one(query)\n",
    "    pprint(first_document)"
   ]
  },
  {
   "cell_type": "code",
   "execution_count": 85,
   "id": "a6e5cece",
   "metadata": {},
   "outputs": [
    {
     "name": "stdout",
     "output_type": "stream",
     "text": [
      "Rows in DataFrame: 41\n",
      "                     _id  FHRSID  ChangesByServerID LocalAuthorityBusinessID              BusinessName                      BusinessType  BusinessTypeID          AddressLine1       AddressLine2 AddressLine3 AddressLine4 PostCode Phone  RatingValue    RatingKey          RatingDate LocalAuthorityCode LocalAuthorityName                    LocalAuthorityWebSite            LocalAuthorityEmailAddress                                                          scores SchemeType                                                        geocode RightToReply    Distance  NewRatingPending                                                                                                                                                             meta                                                                               links\n",
      "6668a114cf5c32101a53bf0c  110681                  0                     4029       The Chase Rest Home                   Caring Premises               5  5-6 Southfields Road         Eastbourne  East Sussex              BN21 1BU                  0 fhrs_0_en-gb 2021-09-23T00:00:00                102         Eastbourne http://www.eastbourne.gov.uk/foodratings       Customerfirst@eastbourne.gov.uk {'Hygiene': 20, 'Structural': 20, 'ConfidenceInManagement': 20}       FHRS                  {'longitude': 0.27694, 'latitude': 50.769705}              4613.888288             False {'dataSource': None, 'extractDate': '0001-01-01T00:00:00', 'itemCount': 0, 'returncode': None, 'totalCount': 0, 'totalPages': 0, 'pageSize': 0, 'pageNumber': 0}  [{'rel': 'self', 'href': 'https://api.ratings.food.gov.uk/establishments/110681'}]\n",
      "6668a114cf5c32101a53c2c6  612039                  0                1970/FOOD                Brenalwood                   Caring Premises               5             Hall Lane Walton-on-the-Naze        Essex              CO14 8HN                  0 fhrs_0_en-gb 2022-06-22T00:00:00                120           Tendring            http://www.tendringdc.gov.uk/            fhsadmin@tendringdc.gov.uk {'Hygiene': 20, 'Structural': 15, 'ConfidenceInManagement': 30}       FHRS                 {'longitude': 1.278721, 'latitude': 51.857536}              4617.965824             False {'dataSource': None, 'extractDate': '0001-01-01T00:00:00', 'itemCount': 0, 'returncode': None, 'totalCount': 0, 'totalPages': 0, 'pageSize': 0, 'pageNumber': 0}  [{'rel': 'self', 'href': 'https://api.ratings.food.gov.uk/establishments/612039'}]\n",
      "6668a114cf5c32101a53c59c  730933                  0                1698/FOOD             Melrose Hotel Hotel/bed & breakfast/guest house            7842 53 Marine Parade East     Clacton On Sea        Essex              CO15 6AD                  0 fhrs_0_en-gb 2021-08-13T00:00:00                120           Tendring            http://www.tendringdc.gov.uk/            fhsadmin@tendringdc.gov.uk {'Hygiene': 20, 'Structural': 20, 'ConfidenceInManagement': 20}       FHRS                  {'longitude': 1.15927, 'latitude': 51.789429}              4619.656144             False {'dataSource': None, 'extractDate': '0001-01-01T00:00:00', 'itemCount': 0, 'returncode': None, 'totalCount': 0, 'totalPages': 0, 'pageSize': 0, 'pageNumber': 0}  [{'rel': 'self', 'href': 'https://api.ratings.food.gov.uk/establishments/730933'}]\n",
      "6668a114cf5c32101a53c786  172735                  0             PI/000023858             Seaford Pizza            Takeaway/sandwich shop            7844         4 High Street            Seaford  East Sussex              BN25 1PG                  1 fhrs_1_en-gb 2021-12-23T00:00:00                105              Lewes      http://www.lewes-eastbourne.gov.uk/   ehealth.ldc@lewes-eastbourne.gov.uk {'Hygiene': 20, 'Structural': 10, 'ConfidenceInManagement': 20}       FHRS                  {'longitude': 0.10202, 'latitude': 50.770885}              4620.421725             False {'dataSource': None, 'extractDate': '0001-01-01T00:00:00', 'itemCount': 0, 'returncode': None, 'totalCount': 0, 'totalPages': 0, 'pageSize': 0, 'pageNumber': 0}  [{'rel': 'self', 'href': 'https://api.ratings.food.gov.uk/establishments/172735'}]\n",
      "6668a114cf5c32101a53c791  172953                  0             PI/000024532             Golden Palace           Restaurant/Cafe/Canteen               1        5 South Street            Seaford  East Sussex              BN25 1HP                  1 fhrs_1_en-gb 2021-10-07T00:00:00                105              Lewes      http://www.lewes-eastbourne.gov.uk/   ehealth.ldc@lewes-eastbourne.gov.uk {'Hygiene': 20, 'Structural': 10, 'ConfidenceInManagement': 20}       FHRS                 {'longitude': 0.101446, 'latitude': 50.770724}              4620.437179             False {'dataSource': None, 'extractDate': '0001-01-01T00:00:00', 'itemCount': 0, 'returncode': None, 'totalCount': 0, 'totalPages': 0, 'pageSize': 0, 'pageNumber': 0}  [{'rel': 'self', 'href': 'https://api.ratings.food.gov.uk/establishments/172953'}]\n",
      "6668a114cf5c32101a53d135  512854                  0            12/00816/BUTH          Ashby's Butchers                 Retailers - other            4613  777 Southchurch Road    Southend-On-Sea        Essex               SS1 2PP                  0 fhrs_0_en-gb 2022-07-21T00:00:00                893    Southend-On-Sea               http://www.southend.gov.uk   EnvironmentalHealth@southend.gov.uk {'Hygiene': 20, 'Structural': 20, 'ConfidenceInManagement': 20}       FHRS                 {'longitude': 0.736349, 'latitude': 51.541448}              4625.565258             False {'dataSource': None, 'extractDate': '0001-01-01T00:00:00', 'itemCount': 0, 'returncode': None, 'totalCount': 0, 'totalPages': 0, 'pageSize': 0, 'pageNumber': 0}  [{'rel': 'self', 'href': 'https://api.ratings.food.gov.uk/establishments/512854'}]\n",
      "6668a114cf5c32101a53d358 1537089                  0          22/00224/RESTUN South Sea Express Cuisine           Restaurant/Cafe/Canteen               1   33 Alexandra Street    Southend-on-sea        Essex               SS1 1BW                  0 fhrs_0_en-gb 2022-08-03T00:00:00                893    Southend-On-Sea               http://www.southend.gov.uk   EnvironmentalHealth@southend.gov.uk {'Hygiene': 20, 'Structural': 20, 'ConfidenceInManagement': 20}       FHRS               {'longitude': 0.7121671, 'latitude': 51.5350065}              4626.200132             False {'dataSource': None, 'extractDate': '0001-01-01T00:00:00', 'itemCount': 0, 'returncode': None, 'totalCount': 0, 'totalPages': 0, 'pageSize': 0, 'pageNumber': 0} [{'rel': 'self', 'href': 'https://api.ratings.food.gov.uk/establishments/1537089'}]\n",
      "6668a114cf5c32101a53e884  155648                  0              EH/00006058             Golden Palace            Takeaway/sandwich shop            7844         7 London Road           Rayleigh        Essex               SS6 9HN                  0 fhrs_0_en-gb 2022-03-23T00:00:00                118           Rochford               http://www.rochford.gov.uk      customerservices@rochford.gov.uk {'Hygiene': 20, 'Structural': 15, 'ConfidenceInManagement': 30}       FHRS                 {'longitude': 0.602364, 'latitude': 51.591515}              4632.276890             False {'dataSource': None, 'extractDate': '0001-01-01T00:00:00', 'itemCount': 0, 'returncode': None, 'totalCount': 0, 'totalPages': 0, 'pageSize': 0, 'pageNumber': 0}   [{'rel': 'self', 'href': 'http://api.ratings.food.gov.uk/establishments/155648'}]\n",
      "6668a114cf5c32101a53ecc7 1012883                  0         17/00110/MIXED/S            The Tulip Tree           Restaurant/Cafe/Canteen               1         3 The Village      Chiddingstone         KENT               TN8 7AH                  1 fhrs_1_en-gb 2022-03-04T00:00:00                187          Sevenoaks             http://www.sevenoaks.gov.uk/ environmental.health@sevenoaks.gov.uk  {'Hygiene': 20, 'Structural': 5, 'ConfidenceInManagement': 20}       FHRS {'longitude': 0.146449998021126, 'latitude': 51.1859474182129}              4633.934041             False {'dataSource': None, 'extractDate': '0001-01-01T00:00:00', 'itemCount': 0, 'returncode': None, 'totalCount': 0, 'totalPages': 0, 'pageSize': 0, 'pageNumber': 0}  [{'rel': 'self', 'href': 'http://api.ratings.food.gov.uk/establishments/1012883'}]\n",
      "6668a114cf5c32101a53f4d7  644109                  0                    41811                     F & S                 Retailers - other            4613                           81 Southernhay     Basildon        Essex SS14 1EU                  0 fhrs_0_en-gb 2021-07-26T00:00:00                109           Basildon               http://www.basildon.gov.uk                   ehs@basildon.gov.uk {'Hygiene': 20, 'Structural': 20, 'ConfidenceInManagement': 20}       FHRS                  {'longitude': 0.462307, 'latitude': 51.57005}              4636.552523             False {'dataSource': None, 'extractDate': '0001-01-01T00:00:00', 'itemCount': 0, 'returncode': None, 'totalCount': 0, 'totalPages': 0, 'pageSize': 0, 'pageNumber': 0}   [{'rel': 'self', 'href': 'http://api.ratings.food.gov.uk/establishments/644109'}]\n"
     ]
    }
   ],
   "source": [
    "# Convert the result to a Pandas DataFrame\n",
    "df = pd.DataFrame(results)\n",
    "\n",
    "# Display the number of rows in the DataFrame\n",
    "print(\"Rows in DataFrame:\", len(df))\n",
    "\n",
    "# Display the first 10 rows of the DataFrame\n",
    "print(df.head(10).to_string(index=False))"
   ]
  },
  {
   "cell_type": "markdown",
   "id": "0ef4395a",
   "metadata": {},
   "source": [
    "### 2. Which establishments in London have a `RatingValue` greater than or equal to 4?"
   ]
  },
  {
   "cell_type": "code",
   "execution_count": 86,
   "id": "93c63829",
   "metadata": {},
   "outputs": [
    {
     "name": "stdout",
     "output_type": "stream",
     "text": [
      "Number of establishments in London with a RatingValue greater than or equal to 4: 33\n",
      "{'AddressLine1': 'Oak Apple Farm Building 103 Sheernes Docks',\n",
      " 'AddressLine2': 'Sheppy Kent',\n",
      " 'AddressLine3': '',\n",
      " 'AddressLine4': '',\n",
      " 'BusinessName': \"Charlie's\",\n",
      " 'BusinessType': 'Other catering premises',\n",
      " 'BusinessTypeID': 7841,\n",
      " 'ChangesByServerID': 0,\n",
      " 'Distance': 4627.439467780196,\n",
      " 'FHRSID': 621707,\n",
      " 'LocalAuthorityBusinessID': 'PI/000025307',\n",
      " 'LocalAuthorityCode': '508',\n",
      " 'LocalAuthorityEmailAddress': 'publicprotection@cityoflondon.gov.uk',\n",
      " 'LocalAuthorityName': 'City of London Corporation',\n",
      " 'LocalAuthorityWebSite': 'http://www.cityoflondon.gov.uk/Corporation/homepage.htm',\n",
      " 'NewRatingPending': False,\n",
      " 'Phone': '',\n",
      " 'PostCode': 'ME12',\n",
      " 'RatingDate': '2021-10-18T00:00:00',\n",
      " 'RatingKey': 'fhrs_4_en-gb',\n",
      " 'RatingValue': 4,\n",
      " 'RightToReply': '',\n",
      " 'SchemeType': 'FHRS',\n",
      " '_id': ObjectId('6668a114cf5c32101a53d92a'),\n",
      " 'geocode': {'latitude': 51.369321, 'longitude': 0.508551},\n",
      " 'links': [{'href': 'https://api.ratings.food.gov.uk/establishments/621707',\n",
      "            'rel': 'self'}],\n",
      " 'meta': {'dataSource': None,\n",
      "          'extractDate': '0001-01-01T00:00:00',\n",
      "          'itemCount': 0,\n",
      "          'pageNumber': 0,\n",
      "          'pageSize': 0,\n",
      "          'returncode': None,\n",
      "          'totalCount': 0,\n",
      "          'totalPages': 0},\n",
      " 'scores': {'ConfidenceInManagement': 5, 'Hygiene': 5, 'Structural': 10}}\n"
     ]
    }
   ],
   "source": [
    "# Find the establishments with London as the Local Authority and has a RatingValue greater than or equal to 4.\n",
    "london_regex = \".*London.*\"\n",
    "\n",
    "query = {\n",
    "    \"LocalAuthorityName\": {\"$regex\": london_regex, \"$options\": \"i\"},  # Case-insensitive search for London\n",
    "    \"RatingValue\": {\"$gte\": 4}}\n",
    "\n",
    "# Execute the query and get the cursor\n",
    "cursor = establishments.find(query)\n",
    "\n",
    "# Use count_documents to display the number of documents in the result\n",
    "num_documents = establishments.count_documents(query)\n",
    "print(\"Number of establishments in London with a RatingValue greater than or equal to 4:\", num_documents)\n",
    "\n",
    "# Display the first document in the results using pprint\n",
    "if num_documents > 0:\n",
    "    first_document = establishments.find_one(query)\n",
    "    pprint(first_document)\n",
    "else:\n",
    "    print(\"No establishments found with the given criteria.\")"
   ]
  },
  {
   "cell_type": "code",
   "execution_count": 87,
   "id": "07e24ccb",
   "metadata": {},
   "outputs": [
    {
     "name": "stdout",
     "output_type": "stream",
     "text": [
      "Rows in DataFrame: 33\n",
      "First 10 rows of the DataFrame:\n",
      "                     _id  FHRSID  ChangesByServerID LocalAuthorityBusinessID                         BusinessName            BusinessType  BusinessTypeID                                            AddressLine1                         AddressLine2 AddressLine3 AddressLine4 PostCode Phone  RatingValue    RatingKey          RatingDate LocalAuthorityCode         LocalAuthorityName                                   LocalAuthorityWebSite           LocalAuthorityEmailAddress                                                        scores SchemeType                                                         geocode RightToReply    Distance  NewRatingPending                                                                                                                                                             meta                                                                              links\n",
      "6668a114cf5c32101a53d92a  621707                  0             PI/000025307                            Charlie's Other catering premises            7841              Oak Apple Farm Building 103 Sheernes Docks                          Sheppy Kent                               ME12                  4 fhrs_4_en-gb 2021-10-18T00:00:00                508 City of London Corporation http://www.cityoflondon.gov.uk/Corporation/homepage.htm publicprotection@cityoflondon.gov.uk {'Hygiene': 5, 'Structural': 10, 'ConfidenceInManagement': 5}       FHRS                  {'longitude': 0.508551, 'latitude': 51.369321}              4627.439468             False {'dataSource': None, 'extractDate': '0001-01-01T00:00:00', 'itemCount': 0, 'returncode': None, 'totalCount': 0, 'totalPages': 0, 'pageSize': 0, 'pageNumber': 0} [{'rel': 'self', 'href': 'https://api.ratings.food.gov.uk/establishments/621707'}]\n",
      "6668a114cf5c32101a53dc6b 1130836                  0             PI/000034075              Mv City Cruises Erasmus Other catering premises            7841                                      Cherry Garden Pier     Cherry Garden Street Rotherhithe     Charlton               TN4 8HR                  5 fhrs_5_en-gb 2021-05-14T00:00:00                508 City of London Corporation http://www.cityoflondon.gov.uk/Corporation/homepage.htm publicprotection@cityoflondon.gov.uk  {'Hygiene': 0, 'Structural': 5, 'ConfidenceInManagement': 0}       FHRS  {'longitude': 0.249255999922752, 'latitude': 51.1236228942871}              4627.873179             False {'dataSource': None, 'extractDate': '0001-01-01T00:00:00', 'itemCount': 0, 'returncode': None, 'totalCount': 0, 'totalPages': 0, 'pageSize': 0, 'pageNumber': 0} [{'rel': 'self', 'href': 'http://api.ratings.food.gov.uk/establishments/1130836'}]\n",
      "6668a114cf5c32101a53e798  293783                  0             PI/000002614            Benfleet Motor Yacht Club Other catering premises            7841                                              Ferry Road                 South Benfleet Essex                            SS7 1NF                  4 fhrs_4_en-gb 2018-11-02T00:00:00                508 City of London Corporation http://www.cityoflondon.gov.uk/Corporation/homepage.htm publicprotection@cityoflondon.gov.uk {'Hygiene': 0, 'Structural': 0, 'ConfidenceInManagement': 10}       FHRS                  {'longitude': 0.561954, 'latitude': 51.543831}              4631.968418             False {'dataSource': None, 'extractDate': '0001-01-01T00:00:00', 'itemCount': 0, 'returncode': None, 'totalCount': 0, 'totalPages': 0, 'pageSize': 0, 'pageNumber': 0}  [{'rel': 'self', 'href': 'http://api.ratings.food.gov.uk/establishments/293783'}]\n",
      "6668a114cf5c32101a53f599 1315095                  0             PI/000036464 Coombs Catering t/a The Lock and Key Restaurant/Cafe/Canteen               1                                       Leslie Ford House                              Tilbury     Charlton              RM18 7EH                  5 fhrs_5_en-gb 2020-12-04T00:00:00                508 City of London Corporation http://www.cityoflondon.gov.uk/Corporation/homepage.htm publicprotection@cityoflondon.gov.uk  {'Hygiene': 0, 'Structural': 5, 'ConfidenceInManagement': 0}       FHRS  {'longitude': 0.346336990594864, 'latitude': 51.4640655517578}              4636.846754             False {'dataSource': None, 'extractDate': '0001-01-01T00:00:00', 'itemCount': 0, 'returncode': None, 'totalCount': 0, 'totalPages': 0, 'pageSize': 0, 'pageNumber': 0} [{'rel': 'self', 'href': 'http://api.ratings.food.gov.uk/establishments/1315095'}]\n",
      "6668a114cf5c32101a53f5a2  294474                  0             PI/000014647             Tilbury Seafarers Centre Restaurant/Cafe/Canteen               1                               Tenants Row Tilbury Docks                        Tilbury Essex                           RM18 7EH                  5 fhrs_5_en-gb 2018-11-02T00:00:00                508 City of London Corporation http://www.cityoflondon.gov.uk/Corporation/homepage.htm publicprotection@cityoflondon.gov.uk  {'Hygiene': 0, 'Structural': 0, 'ConfidenceInManagement': 0}       FHRS                  {'longitude': 0.346325, 'latitude': 51.464078}              4636.847650             False {'dataSource': None, 'extractDate': '0001-01-01T00:00:00', 'itemCount': 0, 'returncode': None, 'totalCount': 0, 'totalPages': 0, 'pageSize': 0, 'pageNumber': 0}  [{'rel': 'self', 'href': 'http://api.ratings.food.gov.uk/establishments/294474'}]\n",
      "6668a114cf5c32101a53fcaa  294900                  0             PI/000019066                           Mv Valulla Other catering premises            7841 Reeds River Cruises LtdKings ReachRiver ThamesSouthwark                               London                           RM15 5QY                  5 fhrs_5_en-gb 2016-08-23T00:00:00                508 City of London Corporation http://www.cityoflondon.gov.uk/Corporation/homepage.htm publicprotection@cityoflondon.gov.uk  {'Hygiene': 0, 'Structural': 0, 'ConfidenceInManagement': 0}       FHRS                  {'longitude': 0.287555, 'latitude': 51.504071}              4640.460834             False {'dataSource': None, 'extractDate': '0001-01-01T00:00:00', 'itemCount': 0, 'returncode': None, 'totalCount': 0, 'totalPages': 0, 'pageSize': 0, 'pageNumber': 0}  [{'rel': 'self', 'href': 'http://api.ratings.food.gov.uk/establishments/294900'}]\n",
      "6668a114cf5c32101a541db7  293756                  0             PI/000002538                        Tereza Joanne Other catering premises            7841   Funcraft UK Ltd King George V Dock Woolwich Manor Way                               London                            E16 2NJ                  5 fhrs_5_en-gb 2021-07-09T00:00:00                508 City of London Corporation http://www.cityoflondon.gov.uk/Corporation/homepage.htm publicprotection@cityoflondon.gov.uk  {'Hygiene': 0, 'Structural': 5, 'ConfidenceInManagement': 5}       FHRS                  {'longitude': 0.069286, 'latitude': 51.501121}              4648.301822             False {'dataSource': None, 'extractDate': '0001-01-01T00:00:00', 'itemCount': 0, 'returncode': None, 'totalCount': 0, 'totalPages': 0, 'pageSize': 0, 'pageNumber': 0}  [{'rel': 'self', 'href': 'http://api.ratings.food.gov.uk/establishments/293756'}]\n",
      "6668a114cf5c32101a542180  878523                  0             PI/000029844                     Brick Lane Brews Restaurant/Cafe/Canteen               1                            Air side London City Airport                               London                            E16 2PX                  4 fhrs_4_en-gb 2019-01-18T00:00:00                508 City of London Corporation http://www.cityoflondon.gov.uk/Corporation/homepage.htm publicprotection@cityoflondon.gov.uk {'Hygiene': 10, 'Structural': 5, 'ConfidenceInManagement': 5}       FHRS                  {'longitude': 0.048006, 'latitude': 51.503733}              4649.173485             False {'dataSource': None, 'extractDate': '0001-01-01T00:00:00', 'itemCount': 0, 'returncode': None, 'totalCount': 0, 'totalPages': 0, 'pageSize': 0, 'pageNumber': 0}  [{'rel': 'self', 'href': 'http://api.ratings.food.gov.uk/establishments/878523'}]\n",
      "6668a114cf5c32101a542194  294606                  0             PI/000016185                             WH Smith       Retailers - other            4613                                     London City Airport                    Silvertown London                            E16 2PX                  5 fhrs_5_en-gb 2017-07-17T00:00:00                508 City of London Corporation http://www.cityoflondon.gov.uk/Corporation/homepage.htm publicprotection@cityoflondon.gov.uk  {'Hygiene': 0, 'Structural': 0, 'ConfidenceInManagement': 0}       FHRS {'longitude': 0.0479655750095844, 'latitude': 51.5041122436523}              4649.188850             False {'dataSource': None, 'extractDate': '0001-01-01T00:00:00', 'itemCount': 0, 'returncode': None, 'totalCount': 0, 'totalPages': 0, 'pageSize': 0, 'pageNumber': 0}  [{'rel': 'self', 'href': 'http://api.ratings.food.gov.uk/establishments/294606'}]\n",
      "6668a114cf5c32101a542198  293772                  0             PI/000002585        The Nuance Group (UK) Limited       Retailers - other            4613                       Duty Free Shop Passenger Terminal London City AirportRoyal DocksLondon                            E16 2PX                  5 fhrs_5_en-gb 2017-07-17T00:00:00                508 City of London Corporation http://www.cityoflondon.gov.uk/Corporation/homepage.htm publicprotection@cityoflondon.gov.uk  {'Hygiene': 0, 'Structural': 0, 'ConfidenceInManagement': 0}       FHRS                  {'longitude': 0.047966, 'latitude': 51.504112}              4649.188826             False {'dataSource': None, 'extractDate': '0001-01-01T00:00:00', 'itemCount': 0, 'returncode': None, 'totalCount': 0, 'totalPages': 0, 'pageSize': 0, 'pageNumber': 0}  [{'rel': 'self', 'href': 'http://api.ratings.food.gov.uk/establishments/293772'}]\n"
     ]
    }
   ],
   "source": [
    "# Convert the result to a Pandas DataFrame\n",
    "df = pd.DataFrame(list(cursor))\n",
    "\n",
    "# Display the number of rows in the DataFrame\n",
    "print(\"Rows in DataFrame:\", len(df))\n",
    "\n",
    "# Display the first 10 rows of the DataFrame\n",
    "print(\"First 10 rows of the DataFrame:\")\n",
    "print(df.head(10).to_string(index=False))"
   ]
  },
  {
   "attachments": {},
   "cell_type": "markdown",
   "id": "4e570caf",
   "metadata": {},
   "source": [
    "### 3. What are the top 5 establishments with a `RatingValue` rating value of 5, sorted by lowest hygiene score, nearest to the new restaurant added, \"Penang Flavours\"?"
   ]
  },
  {
   "cell_type": "code",
   "execution_count": 88,
   "id": "7f599f3d",
   "metadata": {},
   "outputs": [
    {
     "name": "stdout",
     "output_type": "stream",
     "text": [
      "{'AddressLine1': '130 - 132 Plumstead High Street',\n",
      " 'AddressLine2': '',\n",
      " 'AddressLine3': 'Plumstead',\n",
      " 'AddressLine4': 'Greenwich',\n",
      " 'BusinessName': 'Volunteer',\n",
      " 'BusinessType': 'Pub/bar/nightclub',\n",
      " 'BusinessTypeID': 7843,\n",
      " 'ChangesByServerID': 0,\n",
      " 'Distance': 4646.965634598608,\n",
      " 'FHRSID': 694609,\n",
      " 'LocalAuthorityBusinessID': 'PI/000116619',\n",
      " 'LocalAuthorityCode': '511',\n",
      " 'LocalAuthorityEmailAddress': 'health@royalgreenwich.gov.uk',\n",
      " 'LocalAuthorityName': 'Greenwich',\n",
      " 'LocalAuthorityWebSite': 'http://www.royalgreenwich.gov.uk',\n",
      " 'NewRatingPending': False,\n",
      " 'Phone': '',\n",
      " 'PostCode': 'SE18 1JQ',\n",
      " 'RatingDate': '2019-08-05T00:00:00',\n",
      " 'RatingKey': 'fhrs_5_en-gb',\n",
      " 'RatingValue': 5,\n",
      " 'RightToReply': '',\n",
      " 'SchemeType': 'FHRS',\n",
      " '_id': ObjectId('6668a114cf5c32101a54176e'),\n",
      " 'geocode': {'latitude': 51.4873437, 'longitude': 0.09208},\n",
      " 'links': [{'href': 'http://api.ratings.food.gov.uk/establishments/694609',\n",
      "            'rel': 'self'}],\n",
      " 'meta': {'dataSource': None,\n",
      "          'extractDate': '0001-01-01T00:00:00',\n",
      "          'itemCount': 0,\n",
      "          'pageNumber': 0,\n",
      "          'pageSize': 0,\n",
      "          'returncode': None,\n",
      "          'totalCount': 0,\n",
      "          'totalPages': 0},\n",
      " 'scores': {'ConfidenceInManagement': 0, 'Hygiene': 0, 'Structural': 0}}\n",
      "{'AddressLine1': 'Plumstead Manor School Old Mill Road',\n",
      " 'AddressLine2': '',\n",
      " 'AddressLine3': 'Plumstead',\n",
      " 'AddressLine4': 'Greenwich',\n",
      " 'BusinessName': 'Plumstead Manor Nursery',\n",
      " 'BusinessType': 'Caring Premises',\n",
      " 'BusinessTypeID': 5,\n",
      " 'ChangesByServerID': 0,\n",
      " 'Distance': 4646.9740101340385,\n",
      " 'FHRSID': 695241,\n",
      " 'LocalAuthorityBusinessID': 'PI/000179088',\n",
      " 'LocalAuthorityCode': '511',\n",
      " 'LocalAuthorityEmailAddress': 'health@royalgreenwich.gov.uk',\n",
      " 'LocalAuthorityName': 'Greenwich',\n",
      " 'LocalAuthorityWebSite': 'http://www.royalgreenwich.gov.uk',\n",
      " 'NewRatingPending': False,\n",
      " 'Phone': '',\n",
      " 'PostCode': 'SE18 1QG',\n",
      " 'RatingDate': '2021-06-16T00:00:00',\n",
      " 'RatingKey': 'fhrs_5_en-gb',\n",
      " 'RatingValue': 5,\n",
      " 'RightToReply': '',\n",
      " 'SchemeType': 'FHRS',\n",
      " '_id': ObjectId('6668a114cf5c32101a541782'),\n",
      " 'geocode': {'latitude': 51.481517791748, 'longitude': 0.0859939977526665},\n",
      " 'links': [{'href': 'http://api.ratings.food.gov.uk/establishments/695241',\n",
      "            'rel': 'self'}],\n",
      " 'meta': {'dataSource': None,\n",
      "          'extractDate': '0001-01-01T00:00:00',\n",
      "          'itemCount': 0,\n",
      "          'pageNumber': 0,\n",
      "          'pageSize': 0,\n",
      "          'returncode': None,\n",
      "          'totalCount': 0,\n",
      "          'totalPages': 0},\n",
      " 'scores': {'ConfidenceInManagement': 5, 'Hygiene': 0, 'Structural': 0}}\n",
      "{'AddressLine1': '17 Lakedale Road',\n",
      " 'AddressLine2': '',\n",
      " 'AddressLine3': 'Plumstead',\n",
      " 'AddressLine4': 'Greenwich',\n",
      " 'BusinessName': 'Lumbini Grocery Ltd T/A Al-Iman',\n",
      " 'BusinessType': 'Retailers - other',\n",
      " 'BusinessTypeID': 4613,\n",
      " 'ChangesByServerID': 0,\n",
      " 'Distance': 4646.975587048333,\n",
      " 'FHRSID': 909912,\n",
      " 'LocalAuthorityBusinessID': 'PI/000201100',\n",
      " 'LocalAuthorityCode': '511',\n",
      " 'LocalAuthorityEmailAddress': 'health@royalgreenwich.gov.uk',\n",
      " 'LocalAuthorityName': 'Greenwich',\n",
      " 'LocalAuthorityWebSite': 'http://www.royalgreenwich.gov.uk',\n",
      " 'NewRatingPending': False,\n",
      " 'Phone': '',\n",
      " 'PostCode': 'SE18 1PP',\n",
      " 'RatingDate': '2020-10-20T00:00:00',\n",
      " 'RatingKey': 'fhrs_5_en-gb',\n",
      " 'RatingValue': 5,\n",
      " 'RightToReply': '',\n",
      " 'SchemeType': 'FHRS',\n",
      " '_id': ObjectId('6668a114cf5c32101a541785'),\n",
      " 'geocode': {'latitude': 51.4871632, 'longitude': 0.0916256},\n",
      " 'links': [{'href': 'http://api.ratings.food.gov.uk/establishments/909912',\n",
      "            'rel': 'self'}],\n",
      " 'meta': {'dataSource': None,\n",
      "          'extractDate': '0001-01-01T00:00:00',\n",
      "          'itemCount': 0,\n",
      "          'pageNumber': 0,\n",
      "          'pageSize': 0,\n",
      "          'returncode': None,\n",
      "          'totalCount': 0,\n",
      "          'totalPages': 0},\n",
      " 'scores': {'ConfidenceInManagement': 0, 'Hygiene': 0, 'Structural': 5}}\n",
      "{'AddressLine1': '144 - 146 Plumstead High Street',\n",
      " 'AddressLine2': '',\n",
      " 'AddressLine3': 'Plumstead',\n",
      " 'AddressLine4': 'Greenwich',\n",
      " 'BusinessName': 'Iceland',\n",
      " 'BusinessType': 'Retailers - supermarkets/hypermarkets',\n",
      " 'BusinessTypeID': 7840,\n",
      " 'ChangesByServerID': 0,\n",
      " 'Distance': 4646.946071297699,\n",
      " 'FHRSID': 695223,\n",
      " 'LocalAuthorityBusinessID': 'PI/000178842',\n",
      " 'LocalAuthorityCode': '511',\n",
      " 'LocalAuthorityEmailAddress': 'health@royalgreenwich.gov.uk',\n",
      " 'LocalAuthorityName': 'Greenwich',\n",
      " 'LocalAuthorityWebSite': 'http://www.royalgreenwich.gov.uk',\n",
      " 'NewRatingPending': False,\n",
      " 'Phone': '',\n",
      " 'PostCode': 'SE18 1JQ',\n",
      " 'RatingDate': '2019-11-13T00:00:00',\n",
      " 'RatingKey': 'fhrs_5_en-gb',\n",
      " 'RatingValue': 5,\n",
      " 'RightToReply': '',\n",
      " 'SchemeType': 'FHRS',\n",
      " '_id': ObjectId('6668a114cf5c32101a541740'),\n",
      " 'geocode': {'latitude': 51.4871482849121, 'longitude': 0.0924199968576431},\n",
      " 'links': [{'href': 'http://api.ratings.food.gov.uk/establishments/695223',\n",
      "            'rel': 'self'}],\n",
      " 'meta': {'dataSource': None,\n",
      "          'extractDate': '0001-01-01T00:00:00',\n",
      "          'itemCount': 0,\n",
      "          'pageNumber': 0,\n",
      "          'pageSize': 0,\n",
      "          'returncode': None,\n",
      "          'totalCount': 0,\n",
      "          'totalPages': 0},\n",
      " 'scores': {'ConfidenceInManagement': 5, 'Hygiene': 0, 'Structural': 5}}\n",
      "{'AddressLine1': 'Restaurant And Premises 107A Plumstead High Street',\n",
      " 'AddressLine2': '',\n",
      " 'AddressLine3': 'Plumstead',\n",
      " 'AddressLine4': 'Greenwich',\n",
      " 'BusinessName': 'Howe and Co Fish and Chips - Van 17',\n",
      " 'BusinessType': 'Mobile caterer',\n",
      " 'BusinessTypeID': 7846,\n",
      " 'ChangesByServerID': 0,\n",
      " 'Distance': 4646.95593107927,\n",
      " 'FHRSID': 1380578,\n",
      " 'LocalAuthorityBusinessID': '14425',\n",
      " 'LocalAuthorityCode': '511',\n",
      " 'LocalAuthorityEmailAddress': 'health@royalgreenwich.gov.uk',\n",
      " 'LocalAuthorityName': 'Greenwich',\n",
      " 'LocalAuthorityWebSite': 'http://www.royalgreenwich.gov.uk',\n",
      " 'NewRatingPending': False,\n",
      " 'Phone': '',\n",
      " 'PostCode': 'SE18 1SE',\n",
      " 'RatingDate': '2021-11-11T00:00:00',\n",
      " 'RatingKey': 'fhrs_5_en-gb',\n",
      " 'RatingValue': 5,\n",
      " 'RightToReply': '',\n",
      " 'SchemeType': 'FHRS',\n",
      " '_id': ObjectId('6668a114cf5c32101a541761'),\n",
      " 'geocode': {'latitude': 51.4875335693359, 'longitude': 0.0925370007753372},\n",
      " 'links': [{'href': 'http://api.ratings.food.gov.uk/establishments/1380578',\n",
      "            'rel': 'self'}],\n",
      " 'meta': {'dataSource': None,\n",
      "          'extractDate': '0001-01-01T00:00:00',\n",
      "          'itemCount': 0,\n",
      "          'pageNumber': 0,\n",
      "          'pageSize': 0,\n",
      "          'returncode': None,\n",
      "          'totalCount': 0,\n",
      "          'totalPages': 0},\n",
      " 'scores': {'ConfidenceInManagement': 0, 'Hygiene': 0, 'Structural': 0}}\n"
     ]
    }
   ],
   "source": [
    "# Search within 0.01 degree on either side of the latitude and longitude.\n",
    "# Rating value must equal 5\n",
    "# Sort by hygiene score\n",
    "\n",
    "degree_search = 0.01\n",
    "latitude = 51.49014200  \n",
    "longitude = 0.08384000 \n",
    "\n",
    "latitude_min = latitude - degree_search\n",
    "latitude_max = latitude + degree_search\n",
    "\n",
    "longitude_min = longitude - degree_search\n",
    "longitude_max = longitude + degree_search\n",
    "\n",
    "query = {\n",
    "    \"geocode.latitude\": {\"$gte\": latitude_min, \"$lte\": latitude_max},\n",
    "    \"geocode.longitude\": {\"$gte\": longitude_min, \"$lte\": longitude_max},\n",
    "    \"RatingValue\": 5\n",
    "}\n",
    "sort = [(\"scores.Hygiene\", 1)]\n",
    "limit = 5\n",
    "\n",
    "# Print the results\n",
    "cursor = establishments.find(query).sort(sort).limit(limit)\n",
    "for result in cursor:\n",
    "    pprint(result)"
   ]
  },
  {
   "cell_type": "code",
   "execution_count": 89,
   "id": "a6ad16f7",
   "metadata": {},
   "outputs": [
    {
     "name": "stdout",
     "output_type": "stream",
     "text": [
      "Empty DataFrame\n",
      "Columns: []\n",
      "Index: []\n"
     ]
    }
   ],
   "source": [
    "# Convert result to Pandas DataFrame\n",
    "df = pd.DataFrame(list(cursor))\n",
    "\n",
    "# Display the DataFrame\n",
    "print(df.head(5))"
   ]
  },
  {
   "cell_type": "markdown",
   "id": "67281254",
   "metadata": {},
   "source": [
    "### 4. How many establishments in each Local Authority area have a hygiene score of 0?"
   ]
  },
  {
   "cell_type": "code",
   "execution_count": 92,
   "id": "4eeb227e",
   "metadata": {},
   "outputs": [
    {
     "name": "stdout",
     "output_type": "stream",
     "text": [
      "Total documents: 16827\n",
      "{'_id': 'Thanet', 'count': 1130}\n",
      "{'_id': 'Greenwich', 'count': 882}\n",
      "{'_id': 'Maidstone', 'count': 713}\n",
      "{'_id': 'Newham', 'count': 711}\n",
      "{'_id': 'Swale', 'count': 686}\n",
      "{'_id': 'Chelmsford', 'count': 680}\n",
      "{'_id': 'Medway', 'count': 672}\n",
      "{'_id': 'Bexley', 'count': 607}\n",
      "{'_id': 'Southend-On-Sea', 'count': 586}\n",
      "{'_id': 'Tendring', 'count': 542}\n"
     ]
    }
   ],
   "source": [
    "# Create a pipeline that:\n",
    "# 1. Matches establishments with a hygiene score of 0\n",
    "# 2. Groups the matches by Local Authority\n",
    "# 3. Sorts the matches from highest to lowest\n",
    "\n",
    "pipeline = [\n",
    "    {\n",
    "        \"$match\": {\n",
    "            \"scores.Hygiene\": 0\n",
    "        }\n",
    "    },\n",
    "    {\n",
    "        \"$group\": {\n",
    "            \"_id\": \"$LocalAuthorityName\",\n",
    "            \"count\": {\"$sum\": 1}\n",
    "        }\n",
    "    },\n",
    "    {\n",
    "        \"$sort\": {\"count\": -1}\n",
    "    }\n",
    "]\n",
    "\n",
    "result = list(establishments.aggregate(pipeline))\n",
    "\n",
    "# Get the total number of documents in the result\n",
    "total_documents = sum(doc['count'] for doc in result)\n",
    "print(\"Total documents:\", total_documents)\n",
    "\n",
    "# Print the first 10 results\n",
    "for doc in result[:10]:\n",
    "    print(doc)"
   ]
  },
  {
   "cell_type": "code",
   "execution_count": 93,
   "id": "d8aab364",
   "metadata": {},
   "outputs": [
    {
     "name": "stdout",
     "output_type": "stream",
     "text": [
      "Number of rows in the DataFrame: 55\n",
      "The first 5 rows of your resulting DataFrame:\n",
      "         _id  count\n",
      "0     Thanet   1130\n",
      "1  Greenwich    882\n",
      "2  Maidstone    713\n",
      "3     Newham    711\n",
      "4      Swale    686\n"
     ]
    }
   ],
   "source": [
    "# Convert the result to a Pandas DataFrame\n",
    "df = pd.DataFrame(result)\n",
    "\n",
    "# Display the number of rows in the DataFrame\n",
    "num_rows = df.shape[0]\n",
    "print(\"Number of rows in the DataFrame:\", num_rows)\n",
    "\n",
    "# Display the first 10 rows of the DataFrame\n",
    "print(\"The first 5 rows of your resulting DataFrame:\")\n",
    "print(df.head(5))\n"
   ]
  }
 ],
 "metadata": {
  "kernelspec": {
   "display_name": "Python 3 (ipykernel)",
   "language": "python",
   "name": "python3"
  },
  "language_info": {
   "codemirror_mode": {
    "name": "ipython",
    "version": 3
   },
   "file_extension": ".py",
   "mimetype": "text/x-python",
   "name": "python",
   "nbconvert_exporter": "python",
   "pygments_lexer": "ipython3",
   "version": "3.10.14"
  }
 },
 "nbformat": 4,
 "nbformat_minor": 5
}
